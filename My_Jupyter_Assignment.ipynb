{
  "metadata": {
    "language_info": {
      "codemirror_mode": {
        "name": "python",
        "version": 3
      },
      "file_extension": ".py",
      "mimetype": "text/x-python",
      "name": "python",
      "nbconvert_exporter": "python",
      "pygments_lexer": "ipython3",
      "version": "3.8"
    },
    "kernelspec": {
      "name": "python",
      "display_name": "Pyolite",
      "language": "python"
    }
  },
  "nbformat_minor": 4,
  "nbformat": 4,
  "cells": [
    {
      "cell_type": "markdown",
      "source": "<H1>My Jupiter Notebook on IBM Watson Studio</H1>",
      "metadata": {}
    },
    {
      "cell_type": "markdown",
      "source": "<b>Adrianov Mailoa</b>\n<br/>Data Scientist",
      "metadata": {}
    },
    {
      "cell_type": "markdown",
      "source": "<i>I like playing with data. Data science makes playing with data more interesting because it opens the possibility to solve problems and brings new ideas.</i>",
      "metadata": {}
    },
    {
      "cell_type": "markdown",
      "source": "<h3>The code below is used to sum numbers between <i>range_from</i> and <i>range_to</i>.</h3>",
      "metadata": {}
    },
    {
      "cell_type": "code",
      "source": "range_from = 1\nrange_to = 10\ntotal = sum(range(range_from, range_to+1))\nprint(total)",
      "metadata": {
        "trusted": true
      },
      "execution_count": 7,
      "outputs": [
        {
          "name": "stdout",
          "text": "55\n",
          "output_type": "stream"
        }
      ]
    },
    {
      "cell_type": "markdown",
      "source": "---\nHope you notice the `horizontal rule` above.\n\nThis is a `sample table`\n| Column 1 | Column 2 | Column 3 |\n| ------ | ------ | ------ |\n| cell C1R1 | cell C2R1 | cell C3R1 |\n| cell C1R2 | cell C2R2 | cell C3R2 |\n| cell C1R3 | cell C2R3 | cell C3R3 |\n| cell C1R4 | cell C2R4 | cell C3R4 |\n> This is a blockquote created using markdown",
      "metadata": {}
    },
    {
      "cell_type": "code",
      "source": "",
      "metadata": {},
      "execution_count": null,
      "outputs": []
    }
  ]
}